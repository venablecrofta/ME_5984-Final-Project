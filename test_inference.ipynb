{
 "cells": [
  {
   "cell_type": "code",
   "execution_count": 2,
   "id": "6989da03-1a76-4f35-b730-0c242455ec4e",
   "metadata": {},
   "outputs": [
    {
     "name": "stderr",
     "output_type": "stream",
     "text": [
      "2025-05-04 18:18:51.486573: W tensorflow/tsl/platform/profile_utils/cpu_utils.cc:128] Failed to get CPU frequency: 0 Hz\n"
     ]
    },
    {
     "name": "stdout",
     "output_type": "stream",
     "text": [
      "7/7 [==============================] - 0s 3ms/step\n",
      "     unit  Predicted_RUL\n",
      "0       1     110.536179\n",
      "1       2      48.303345\n",
      "2       3      79.615524\n",
      "3       4      63.776028\n",
      "4       5      96.192085\n",
      "..    ...            ...\n",
      "213   214      20.831123\n",
      "214   215     128.791275\n",
      "215   216      86.251068\n",
      "216   217     112.444801\n",
      "217   218     116.346313\n",
      "\n",
      "[218 rows x 2 columns]\n"
     ]
    }
   ],
   "source": [
    "import pandas as pd\n",
    "import numpy as np\n",
    "import joblib\n",
    "from tensorflow.keras.models import load_model\n",
    "\n",
    "# Load test data\n",
    "test = pd.read_csv(\"test.csv\", sep=r'\\s+', header=None)\n",
    "test.columns = ['unit', 'time'] + [f'op_setting_{i}' for i in range(1, 4)] + \\\n",
    "               [f'sensor_{i}' for i in range(1, 22)]\n",
    "\n",
    "# Load pre-trained objects\n",
    "model = load_model(\"gru_rul_model.h5\")\n",
    "scaler = joblib.load(\"scaler.pkl\")\n",
    "pca = joblib.load(\"pca.pkl\")\n",
    "\n",
    "# Parameters\n",
    "SEQUENCE_LENGTH = 30\n",
    "MAX_RUL = 130\n",
    "\n",
    "# Select same features as training\n",
    "selected_features = scaler.feature_names_in_\n",
    "\n",
    "# Normalize\n",
    "test[selected_features] = scaler.transform(test[selected_features])\n",
    "\n",
    "# Apply PCA\n",
    "test_pca = pca.transform(test[selected_features])\n",
    "test_pca_df = pd.DataFrame(test_pca)\n",
    "test_pca_df['unit'] = test['unit'].values\n",
    "test_pca_df['time'] = test['time'].values\n",
    "\n",
    "# Sequence generation for last window of each engine\n",
    "def last_sequence(df, seq_len):\n",
    "    sequences = []\n",
    "    units = []\n",
    "    for unit in df['unit'].unique():\n",
    "        unit_df = df[df['unit'] == unit].sort_values('time')\n",
    "        if len(unit_df) >= seq_len:\n",
    "            seq = unit_df.iloc[-seq_len:][df.columns.difference(['unit', 'time'])].values\n",
    "        else:\n",
    "            # Pad sequence with zeros if shorter than SEQUENCE_LENGTH\n",
    "            pad = np.zeros((seq_len - len(unit_df), unit_df.shape[1] - 2))\n",
    "            seq = np.vstack((pad, unit_df[df.columns.difference(['unit', 'time'])].values))\n",
    "        sequences.append(seq)\n",
    "        units.append(unit)\n",
    "    return np.array(sequences), units\n",
    "\n",
    "X_test, units = last_sequence(test_pca_df, SEQUENCE_LENGTH)\n",
    "\n",
    "# Predict RUL\n",
    "y_pred = model.predict(X_test).flatten()\n",
    "\n",
    "# Clip predicted RUL to same max as training\n",
    "y_pred = np.clip(y_pred, 0, MAX_RUL)\n",
    "\n",
    "# Output DataFrame\n",
    "rul_pred_df = pd.DataFrame({'unit': units, 'Predicted_RUL': y_pred})\n",
    "print(rul_pred_df)\n",
    "\n",
    "# Optionally save to CSV\n",
    "rul_pred_df.to_csv(\"predicted_rul_test.csv\", index=False)\n"
   ]
  },
  {
   "cell_type": "code",
   "execution_count": null,
   "id": "66ef92ff-e342-4117-89fd-d8acc980affa",
   "metadata": {},
   "outputs": [],
   "source": []
  }
 ],
 "metadata": {
  "kernelspec": {
   "display_name": "Python 3 (ipykernel)",
   "language": "python",
   "name": "python3"
  },
  "language_info": {
   "codemirror_mode": {
    "name": "ipython",
    "version": 3
   },
   "file_extension": ".py",
   "mimetype": "text/x-python",
   "name": "python",
   "nbconvert_exporter": "python",
   "pygments_lexer": "ipython3",
   "version": "3.9.18"
  }
 },
 "nbformat": 4,
 "nbformat_minor": 5
}
